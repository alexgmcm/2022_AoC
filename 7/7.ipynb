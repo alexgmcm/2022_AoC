{
 "cells": [
  {
   "cell_type": "code",
   "execution_count": 311,
   "id": "determined-eating",
   "metadata": {},
   "outputs": [],
   "source": [
    "file=\"1_input.txt\"\n",
    "#file=\"1_test.txt\"\n",
    "f=open(file,'r')"
   ]
  },
  {
   "cell_type": "code",
   "execution_count": 312,
   "id": "systematic-chart",
   "metadata": {},
   "outputs": [],
   "source": [
    "class Directory:   \n",
    "    parent_dir=None\n",
    "    def __init__(self, path,parent_dir):\n",
    "        self.path = path\n",
    "        self.parent_dir=parent_dir\n",
    "        self.subdirs=[]\n",
    "        self.files=[]\n",
    "        self.size=0\n",
    "    def get_size(self):\n",
    "        file_size=sum([f.size for f in self.files])\n",
    "        #print([d.get_size() for d in self.subdirs])\n",
    "        subdir_size=sum([d.get_size() if d.get_size() else 0 for d in self.subdirs])\n",
    "        return file_size+subdir_size\n",
    "        \n",
    "class File:\n",
    "    def __init__(self, name,size):\n",
    "        self.name = name\n",
    "        self.size=size\n",
    "    "
   ]
  },
  {
   "cell_type": "code",
   "execution_count": 313,
   "id": "collected-picking",
   "metadata": {},
   "outputs": [],
   "source": [
    "global cur_dir\n",
    "global dir_dict\n",
    "global cur_path\n",
    "dir_dict={}\n",
    "cur_dir=None\n",
    "cur_path=[]"
   ]
  },
  {
   "cell_type": "code",
   "execution_count": 314,
   "id": "northern-palmer",
   "metadata": {},
   "outputs": [],
   "source": [
    "def proc_line(line):\n",
    "    global cur_dir\n",
    "    global dir_dict\n",
    "    global cur_path\n",
    "    tokens=line.strip().split()\n",
    "    if tokens[0]==\"$\":\n",
    "        tokens.pop(0)\n",
    "        proc_cmd(tokens)\n",
    "    elif tokens[0]==\"dir\":\n",
    "        tokens.pop(0)\n",
    "        proc_dir(tokens)\n",
    "    else:\n",
    "        #print(\"file\")\n",
    "        proc_file(tokens)\n",
    "        \n",
    "def proc_cmd(tokens):\n",
    "    global cur_dir\n",
    "    global dir_dict\n",
    "    global cur_path\n",
    "    if tokens[0] == \"cd\":\n",
    "         # add support for cd .., cd /\n",
    "        name = tokens[1]\n",
    "        \n",
    "        if name == \"..\":\n",
    "            #print(\"found ..\")\n",
    "            cur_path.pop()\n",
    "            cur_dir=cur_dir.parent_dir\n",
    "            return None\n",
    "        else: \n",
    "            dir_id='/'.join(cur_path + [name])\n",
    "        if dir_id in dir_dict:\n",
    "            cur_path.append(name)\n",
    "            cur_dir=dir_dict[dir_id]\n",
    "        else:\n",
    "            dir_dict[dir_id]=Directory(path=dir_id,parent_dir=cur_dir)\n",
    "            cur_path.append(name)\n",
    "            cur_dir=dir_dict[dir_id]\n",
    "    if tokens[0] == \"ls\":\n",
    "        pass #don't need to do anything??\n",
    "\n",
    "def proc_dir(tokens):\n",
    "    global cur_dir\n",
    "    global dir_dict\n",
    "    global cur_path\n",
    "    name = tokens[0]\n",
    "    dir_id='/'.join(cur_path + [name])\n",
    "    if dir_id in dir_dict:\n",
    "        pass\n",
    "    else:\n",
    "        dir_dict[dir_id]=Directory(path=dir_id,parent_dir=cur_dir)\n",
    "    cur_dir.subdirs.append(dir_dict[dir_id])\n",
    "    #print(cur_dir.subdirs)\n",
    "   \n",
    "\n",
    "def proc_file(tokens):\n",
    "    global cur_dir\n",
    "    global dir_dict\n",
    "    global cur_path\n",
    "    name=tokens[1]\n",
    "    size=int(tokens[0])\n",
    "    cur_dir.files.append(File(name=name,size=size))\n",
    "    root_dir=cur_dir\n",
    "    while root_dir:\n",
    "        root_dir.size+=size\n",
    "        root_dir=root_dir.parent_dir\n",
    "    #print(cur_dir.files)\n",
    "    \n",
    "def get_part1_result():\n",
    "    global cur_dir\n",
    "    global dir_dict\n",
    "    global cur_path\n",
    "    sizes = list(map(lambda x: x.size, dir_dict.values()))\n",
    "    #print(sizes)\n",
    "    eligible_sizes= list(filter(lambda x: x is not None and x<=100000,sizes))\n",
    "    result = sum(eligible_sizes)\n",
    "    return result\n",
    "    \n",
    "def get_part2_result():\n",
    "    global dir_dict\n",
    "    total_space=70000000\n",
    "    needed_space=30000000\n",
    "    available_space= total_space - dir_dict[\"/\"].size\n",
    "    #print(available_space)\n",
    "    min_deletion_req = needed_space-available_space\n",
    "    #print(min_deletion_req)\n",
    "    dir_sizes = map(lambda x: x.size, dir_dict.values())\n",
    "    #print(list(dir_sizes))\n",
    "    eligible_dirs=filter(lambda x: x>=min_deletion_req,dir_sizes)\n",
    "    return min(eligible_dirs)\n",
    "    \n",
    "    \n",
    "        \n",
    "            \n",
    "            "
   ]
  },
  {
   "cell_type": "code",
   "execution_count": 315,
   "id": "miniature-orientation",
   "metadata": {},
   "outputs": [
    {
     "name": "stdout",
     "output_type": "stream",
     "text": [
      "1644735\n"
     ]
    }
   ],
   "source": [
    "for line in f:\n",
    "    proc_line(line)\n",
    "print(get_part1_result())"
   ]
  },
  {
   "cell_type": "code",
   "execution_count": 316,
   "id": "placed-massage",
   "metadata": {},
   "outputs": [
    {
     "name": "stdout",
     "output_type": "stream",
     "text": [
      "1300850\n"
     ]
    }
   ],
   "source": [
    "print(get_part2_result())\n"
   ]
  }
 ],
 "metadata": {
  "kernelspec": {
   "display_name": "Python 3",
   "language": "python",
   "name": "python3"
  },
  "language_info": {
   "codemirror_mode": {
    "name": "ipython",
    "version": 3
   },
   "file_extension": ".py",
   "mimetype": "text/x-python",
   "name": "python",
   "nbconvert_exporter": "python",
   "pygments_lexer": "ipython3",
   "version": "3.9.1"
  }
 },
 "nbformat": 4,
 "nbformat_minor": 5
}

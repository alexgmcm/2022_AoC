{
 "cells": [
  {
   "cell_type": "code",
   "execution_count": 2,
   "id": "accepting-habitat",
   "metadata": {},
   "outputs": [],
   "source": [
    "file=\"1_input.txt\"\n",
    "#file=\"1_test.txt\"\n",
    "f=open(file,'r')"
   ]
  },
  {
   "cell_type": "code",
   "execution_count": 3,
   "id": "planned-marsh",
   "metadata": {},
   "outputs": [],
   "source": [
    "calorie_cts=[]\n",
    "i=0\n",
    "new_block=True\n",
    "for line in f:\n",
    "    if not (line and line.strip()):\n",
    "        new_block=True\n",
    "    else:\n",
    "        num = int(line.strip())\n",
    "        if new_block:\n",
    "            calorie_cts.append(num)\n",
    "            new_block=False\n",
    "        else:\n",
    "            calorie_cts[len(calorie_cts)-1] += num\n",
    "        "
   ]
  },
  {
   "cell_type": "code",
   "execution_count": 4,
   "id": "finite-completion",
   "metadata": {},
   "outputs": [
    {
     "data": {
      "text/plain": [
       "69501"
      ]
     },
     "execution_count": 4,
     "metadata": {},
     "output_type": "execute_result"
    }
   ],
   "source": [
    "max(calorie_cts)"
   ]
  },
  {
   "cell_type": "code",
   "execution_count": 9,
   "id": "norwegian-twelve",
   "metadata": {},
   "outputs": [
    {
     "data": {
      "text/plain": [
       "202346"
      ]
     },
     "execution_count": 9,
     "metadata": {},
     "output_type": "execute_result"
    }
   ],
   "source": [
    "sum(sorted(calorie_cts,reverse=True)[0:3])"
   ]
  },
  {
   "cell_type": "code",
   "execution_count": 1,
   "id": "junior-sleeve",
   "metadata": {},
   "outputs": [
    {
     "ename": "NameError",
     "evalue": "name 'f' is not defined",
     "output_type": "error",
     "traceback": [
      "\u001b[0;31m---------------------------------------------------------------------------\u001b[0m",
      "\u001b[0;31mNameError\u001b[0m                                 Traceback (most recent call last)",
      "\u001b[0;32m<ipython-input-1-b5edb7b78a9a>\u001b[0m in \u001b[0;36m<module>\u001b[0;34m\u001b[0m\n\u001b[0;32m----> 1\u001b[0;31m \u001b[0mf\u001b[0m\u001b[0;34m.\u001b[0m\u001b[0mclose\u001b[0m\u001b[0;34m(\u001b[0m\u001b[0;34m)\u001b[0m\u001b[0;34m\u001b[0m\u001b[0;34m\u001b[0m\u001b[0m\n\u001b[0m",
      "\u001b[0;31mNameError\u001b[0m: name 'f' is not defined"
     ]
    }
   ],
   "source": [
    "f.close()"
   ]
  },
  {
   "cell_type": "markdown",
   "id": "executive-struggle",
   "metadata": {},
   "source": [
    "-----"
   ]
  },
  {
   "cell_type": "code",
   "execution_count": null,
   "id": "adjustable-province",
   "metadata": {},
   "outputs": [],
   "source": []
  }
 ],
 "metadata": {
  "kernelspec": {
   "display_name": "Python 3",
   "language": "python",
   "name": "python3"
  },
  "language_info": {
   "codemirror_mode": {
    "name": "ipython",
    "version": 3
   },
   "file_extension": ".py",
   "mimetype": "text/x-python",
   "name": "python",
   "nbconvert_exporter": "python",
   "pygments_lexer": "ipython3",
   "version": "3.9.1"
  }
 },
 "nbformat": 4,
 "nbformat_minor": 5
}

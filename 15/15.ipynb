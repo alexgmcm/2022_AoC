{
 "cells": [
  {
   "cell_type": "code",
   "execution_count": 90,
   "id": "introductory-ballot",
   "metadata": {},
   "outputs": [],
   "source": [
    "import re\n",
    "from math import copysign \n",
    "def parse_line(line):\n",
    "    matches = re.findall(\"[xy]=([-]?[0-9]+)\",line)\n",
    "    sensor=(int(matches[0]),int(matches[1]))\n",
    "    beacon=(int(matches[2]),int(matches[3]))\n",
    "    \n",
    "    return (sensor,beacon)\n",
    "    \n",
    "def calc_manhattan_dist(p1,p2):\n",
    "    return abs(p1[0]-p2[0]) + abs(p1[1]-p2[1])\n",
    "\n",
    "def get_manhattan_dist_coords(src, dist):\n",
    "    x_range = range(src[0]-dist-1,src[0]+dist+1)\n",
    "    y_range = range(src[1]-dist-1,src[1]+dist+1)\n",
    "    coords = [(x,y) if (abs(x-src[0]) + abs(y-src[1])) <= dist else None for x in x_range  for y in y_range]\n",
    "    coords=list(filter(lambda x: x is not None, coords))\n",
    "    return coords\n",
    "\n",
    "def visualise_grid(grid):\n",
    "    viz=[]\n",
    "    x_min = min([a[0] for a in grid.keys()])\n",
    "    x_max = max([a[0] for a in grid.keys()])\n",
    "    y_min = min([a[1] for a in grid.keys()])\n",
    "    print(y_min)\n",
    "    y_max = max([a[1] for a in grid.keys()])\n",
    "\n",
    "    x_range=range(x_min, x_max+1)\n",
    "    y_range=range(y_min,y_max+1)\n",
    "\n",
    "    for j,y in enumerate(y_range):\n",
    "        viz.append([])\n",
    "        for x in x_range:\n",
    "            if (x,y) in grid:\n",
    "                char = grid[(x,y)]\n",
    "            else:\n",
    "                char = \".\"\n",
    "            viz[j].append(char)\n",
    "    return viz\n",
    "    "
   ]
  },
  {
   "cell_type": "code",
   "execution_count": 88,
   "id": "promising-information",
   "metadata": {},
   "outputs": [
    {
     "name": "stdout",
     "output_type": "stream",
     "text": [
      "Considering ((2300471, 2016823), (2687171, 2822745), 1192622)...\n",
      "Considering ((1039523, 3061589), (1570410, 3710085), 1179383)...\n",
      "Considering ((1016825, 1450262), (745731, 2000000), 820832)...\n",
      "Considering ((3952516, 2683159), (3213800, 2708360), 763917)...\n",
      "Considering ((438583, 2647769), (745731, 2000000), 954917)...\n",
      "Considering ((2898335, 1037911), (3213800, 2708360), 1985914)...\n",
      "Considering ((3999446, 1929369), (3213800, 2708360), 1564637)...\n",
      "Considering ((1434466, 2254087), (745731, 2000000), 942822)...\n",
      "Considering ((200365, 1856636), (745731, 2000000), 688730)...\n"
     ]
    }
   ],
   "source": [
    "TEST_FILE=\"1_test.txt\"\n",
    "INPUT_FILE=\"1_input.txt\"\n",
    "file=INPUT_FILE\n",
    "f=open(file,'r')\n",
    "lines=f.readlines()\n",
    "data=[]\n",
    "grid={}\n",
    "for line in lines:\n",
    "    sensor, beacon = parse_line(line)\n",
    "    #print(f\"Sensor at {sensor}, nearest beacon at {beacon}\")\n",
    "    dist = calc_manhattan_dist(sensor,beacon)\n",
    "    data.append((sensor,beacon,dist))\n",
    "\n",
    "x_min = min((x[0][0] - x[2]) for x in data)\n",
    "x_max = max((x[0][0] + x[2]) for x in data)\n",
    "#y_min = min((x[0][1] - x[2]) for x in data)\n",
    "#y_max = max((x[0][1] + x[2]) for x in data)\n",
    "\n",
    "y_val = 2000000\n",
    "\n",
    "for datum in data:\n",
    "    \n",
    "    sensor = datum[0]\n",
    "    beacon = datum[1]\n",
    "    dist = datum[2]\n",
    "    \n",
    "    \n",
    "    grid[sensor]=\"S\"\n",
    "    grid[beacon]=\"B\"\n",
    "    pos_x_dist = dist - abs(sensor[1] - y_val)\n",
    "    x_min = sensor[0] - pos_x_dist\n",
    "    x_max = sensor[0] + pos_x_dist\n",
    "    # for each point on target line, check relevant manhattan distance to sensor\n",
    "    if (sensor[1] + dist < y_val) or (sensor[1] - dist > y_val):\n",
    "        continue # skip it, out of range\n",
    "    else: \n",
    "        print(f\"Considering {datum}...\")\n",
    "    for x in range(x_min, x_max + 1):\n",
    "        if (x,y_val) not in grid:\n",
    "            m_dist = calc_manhattan_dist((x,y_val),sensor)\n",
    "            grid[(x,y_val)] = \"#\" if m_dist <= dist else \".\"\n",
    "        elif grid[(x,y_val)] != \"S\" and grid[(x,y_val)] != \"B\":\n",
    "            m_dist = calc_manhattan_dist((x,y_val),sensor)\n",
    "            if m_dist <= dist:\n",
    "                grid[(x,y_val)] = \"#\" \n",
    "            \n",
    "            \n",
    "    \n",
    "    \n"
   ]
  },
  {
   "cell_type": "code",
   "execution_count": 89,
   "id": "fixed-terror",
   "metadata": {},
   "outputs": [
    {
     "name": "stdout",
     "output_type": "stream",
     "text": [
      "5838453\n"
     ]
    }
   ],
   "source": [
    "valid_keys=list(filter(lambda x: x[1]==y_val,grid.keys()))\n",
    "valid_vals=[grid[key] for key in valid_keys]\n",
    "print(valid_vals.count(\"#\") + valid_vals.count(\"S\"))"
   ]
  },
  {
   "cell_type": "code",
   "execution_count": null,
   "id": "sought-theme",
   "metadata": {},
   "outputs": [],
   "source": [
    "# 5200645 too low"
   ]
  },
  {
   "cell_type": "code",
   "execution_count": 66,
   "id": "unlimited-conjunction",
   "metadata": {},
   "outputs": [
    {
     "data": {
      "text/plain": [
       "[((2, 18), (-2, 15), 7),\n",
       " ((9, 16), (10, 16), 1),\n",
       " ((13, 2), (15, 3), 3),\n",
       " ((12, 14), (10, 16), 4),\n",
       " ((10, 20), (10, 16), 4),\n",
       " ((14, 17), (10, 16), 5),\n",
       " ((8, 7), (2, 10), 9),\n",
       " ((2, 0), (2, 10), 10),\n",
       " ((0, 11), (2, 10), 3),\n",
       " ((20, 14), (25, 17), 8),\n",
       " ((17, 20), (21, 22), 6),\n",
       " ((16, 7), (15, 3), 5),\n",
       " ((14, 3), (15, 3), 1),\n",
       " ((20, 1), (15, 3), 7)]"
      ]
     },
     "execution_count": 66,
     "metadata": {},
     "output_type": "execute_result"
    }
   ],
   "source": [
    "data"
   ]
  },
  {
   "cell_type": "code",
   "execution_count": 37,
   "id": "embedded-defeat",
   "metadata": {},
   "outputs": [
    {
     "name": "stdout",
     "output_type": "stream",
     "text": [
      "-10\n",
      "..........#..........................\n",
      ".........###.........................\n",
      "........#####........................\n",
      ".......#######.......................\n",
      "......#########.............#........\n",
      ".....###########...........###.......\n",
      "....#############.........#####......\n",
      "...###############.......#######.....\n",
      "..#################.....#########....\n",
      ".###################.#.###########...\n",
      "##########S########################..\n",
      ".###########################S#######.\n",
      "..###################S#############..\n",
      "...###################SB##########...\n",
      "....#############################....\n",
      ".....###########################.....\n",
      "......#########################......\n",
      ".......#########S#######S#####.......\n",
      "........#######################......\n",
      ".......#########################.....\n",
      "......####B######################....\n",
      ".....###S#############.###########...\n",
      "......#############################..\n",
      ".......#############################.\n",
      ".......#############S#######S########\n",
      "......B#############################.\n",
      ".....############SB################..\n",
      "....##################S##########B...\n",
      "...#######S######################....\n",
      "....############################.....\n",
      ".....#############S######S######.....\n",
      "......#########################......\n",
      ".......#######..#############B.......\n",
      "........#####....###..#######........\n",
      ".........###......#....#####.........\n",
      "..........#.............###..........\n",
      ".........................#...........\n"
     ]
    }
   ],
   "source": [
    "viz = visualise_grid(grid)\n",
    "for line in viz:\n",
    "    print(\"\".join(line))"
   ]
  },
  {
   "cell_type": "code",
   "execution_count": null,
   "id": "hindu-portland",
   "metadata": {},
   "outputs": [],
   "source": [
    "y_val = 2000000\n",
    "y_min = min([a[1] for a in grid.keys()])\n",
    "y_ind = y_val - y_min\n",
    "valid_keys=list(filter(lambda x: x[1]==y_val,grid.keys()))\n",
    "print([grid[key] for key in valid_keys].count(\"#\"))"
   ]
  },
  {
   "cell_type": "markdown",
   "id": "turned-above",
   "metadata": {},
   "source": [
    "-------------\n",
    "## Part 2"
   ]
  },
  {
   "cell_type": "code",
   "execution_count": 98,
   "id": "worth-perry",
   "metadata": {},
   "outputs": [
    {
     "ename": "KeyboardInterrupt",
     "evalue": "",
     "output_type": "error",
     "traceback": [
      "\u001b[0;31m---------------------------------------------------------------------------\u001b[0m",
      "\u001b[0;31mKeyboardInterrupt\u001b[0m                         Traceback (most recent call last)",
      "\u001b[0;32m<ipython-input-98-13ad46a0a2cf>\u001b[0m in \u001b[0;36m<module>\u001b[0;34m\u001b[0m\n\u001b[1;32m     45\u001b[0m             \u001b[0;32mif\u001b[0m \u001b[0msensor\u001b[0m\u001b[0;34m[\u001b[0m\u001b[0;36m1\u001b[0m\u001b[0;34m]\u001b[0m\u001b[0;34m-\u001b[0m\u001b[0mdist\u001b[0m \u001b[0;34m>\u001b[0m \u001b[0mX_VAL\u001b[0m\u001b[0;34m:\u001b[0m\u001b[0;34m\u001b[0m\u001b[0;34m\u001b[0m\u001b[0m\n\u001b[1;32m     46\u001b[0m                 \u001b[0;32mcontinue\u001b[0m\u001b[0;34m\u001b[0m\u001b[0;34m\u001b[0m\u001b[0m\n\u001b[0;32m---> 47\u001b[0;31m             \u001b[0;32mif\u001b[0m \u001b[0msensor\u001b[0m\u001b[0;34m[\u001b[0m\u001b[0;36m1\u001b[0m\u001b[0;34m]\u001b[0m\u001b[0;34m+\u001b[0m\u001b[0mdist\u001b[0m \u001b[0;34m<\u001b[0m \u001b[0;36m0\u001b[0m\u001b[0;34m:\u001b[0m\u001b[0;34m\u001b[0m\u001b[0;34m\u001b[0m\u001b[0m\n\u001b[0m\u001b[1;32m     48\u001b[0m                 \u001b[0;32mcontinue\u001b[0m\u001b[0;34m\u001b[0m\u001b[0;34m\u001b[0m\u001b[0m\n\u001b[1;32m     49\u001b[0m \u001b[0;34m\u001b[0m\u001b[0m\n",
      "\u001b[0;31mKeyboardInterrupt\u001b[0m: "
     ]
    }
   ],
   "source": [
    "TEST_FILE=\"1_test.txt\"\n",
    "INPUT_FILE=\"1_input.txt\"\n",
    "file=INPUT_FILE\n",
    "f=open(file,'r')\n",
    "lines=f.readlines()\n",
    "data=[]\n",
    "grid={}\n",
    "for line in lines:\n",
    "    sensor, beacon = parse_line(line)\n",
    "    #print(f\"Sensor at {sensor}, nearest beacon at {beacon}\")\n",
    "    dist = calc_manhattan_dist(sensor,beacon)\n",
    "    data.append((sensor,beacon,dist))\n",
    "\n",
    "#x_min = min((x[0][0] - x[2]) for x in data)\n",
    "#x_max = max((x[0][0] + x[2]) for x in data)\n",
    "#y_min = min((x[0][1] - x[2]) for x in data)\n",
    "#y_max = max((x[0][1] + x[2]) for x in data)\n",
    "\n",
    "\n",
    "for datum in data: \n",
    "    sensor = datum[0]\n",
    "    beacon = datum[1]\n",
    "    dist = datum[2]\n",
    "    grid[sensor]=\"S\"\n",
    "    grid[beacon]=\"B\"\n",
    "\n",
    "X_VAL=4000000\n",
    "#X_VAL=20\n",
    "for x in range(X_VAL+1):\n",
    "    for y in range(X_VAL+1):\n",
    "        if (x,y) in grid:\n",
    "            if grid[(x,y)] == \"S\" or grid[(x,y)]==\"B\":\n",
    "                    continue\n",
    "        for datum in data:\n",
    "            sensor = datum[0]\n",
    "            beacon = datum[1]\n",
    "            dist = datum[2]\n",
    "            grid[sensor]=\"S\"\n",
    "            grid[beacon]=\"B\"\n",
    "            \n",
    "            if sensor[0]-dist > X_VAL:\n",
    "                continue\n",
    "            if sensor[0]+dist < 0:\n",
    "                continue\n",
    "            if sensor[1]-dist > X_VAL:\n",
    "                continue\n",
    "            if sensor[1]+dist < 0:\n",
    "                continue\n",
    "                \n",
    "            if calc_manhattan_dist((x,y),sensor) <= dist:\n",
    "                    grid[(x,y)] = \"#\"\n",
    "        if (x,y) not in grid:\n",
    "            grid[(x,y)]=\".\"\n",
    "            \n",
    "# consider each sensor and if ti could affect target area calculate it's effect\n",
    "            \n",
    "    \n",
    "    \n",
    "    \n",
    "    "
   ]
  },
  {
   "cell_type": "code",
   "execution_count": 97,
   "id": "weekly-hearts",
   "metadata": {},
   "outputs": [
    {
     "name": "stdout",
     "output_type": "stream",
     "text": [
      "56000011\n"
     ]
    }
   ],
   "source": [
    "valid_keys=list(filter(lambda x: x[1]<=X_VAL and x[0] <= X_VAL and x[0] >= 0 and x[1]>=0,grid.keys()))\n",
    "#print([grid[key] for key in valid_keys])\n",
    "beacon_coords = valid_keys[[grid[key] for key in valid_keys].index(\".\")]\n",
    "print((beacon_coords[0]*4000000) + beacon_coords[1] )"
   ]
  },
  {
   "cell_type": "markdown",
   "id": "short-providence",
   "metadata": {},
   "source": [
    "----------"
   ]
  },
  {
   "cell_type": "code",
   "execution_count": null,
   "id": "intellectual-swiss",
   "metadata": {},
   "outputs": [],
   "source": [
    "# old logic\n",
    "if ((sensor[1] + dist) < 2000000) or ((sensor[1] - dist) > 2000000):\n",
    "        continue # skip processing as won't affect required result\n",
    "    coords = get_manhattan_dist_coords(sensor,dist)\n",
    "    for coord in coords:\n",
    "        if coord not in grid:\n",
    "            grid[coord] = \"#\"\n",
    "        elif grid[coord]!=\"S\" and grid[coord]!=\"B\":\n",
    "            grid[coord] = \"#\""
   ]
  },
  {
   "cell_type": "code",
   "execution_count": 57,
   "id": "congressional-stereo",
   "metadata": {},
   "outputs": [
    {
     "data": {
      "text/plain": [
       "27"
      ]
     },
     "execution_count": 57,
     "metadata": {},
     "output_type": "execute_result"
    }
   ],
   "source": []
  },
  {
   "cell_type": "code",
   "execution_count": null,
   "id": "olympic-aging",
   "metadata": {},
   "outputs": [],
   "source": []
  }
 ],
 "metadata": {
  "kernelspec": {
   "display_name": "Python 3",
   "language": "python",
   "name": "python3"
  },
  "language_info": {
   "codemirror_mode": {
    "name": "ipython",
    "version": 3
   },
   "file_extension": ".py",
   "mimetype": "text/x-python",
   "name": "python",
   "nbconvert_exporter": "python",
   "pygments_lexer": "ipython3",
   "version": "3.9.1"
  }
 },
 "nbformat": 4,
 "nbformat_minor": 5
}

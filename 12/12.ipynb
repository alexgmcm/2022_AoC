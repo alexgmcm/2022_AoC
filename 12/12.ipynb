{
 "cells": [
  {
   "cell_type": "code",
   "execution_count": 218,
   "id": "increased-arlington",
   "metadata": {},
   "outputs": [],
   "source": [
    "# Depth First Search\n",
    "# create list of nodes with properties:\n",
    "# height - convert letter to ascii value?\n",
    "# list of neighbouring nodes\n",
    "# is_start\n",
    "# is_end\n",
    "# is_explored\n",
    "# distance\n",
    "\n",
    "\n",
    "# cur_steps variable [(0,0),(0,1) etc.]\n",
    "\n",
    "# add start node to list of nodes to explore: [(node,cur_stepsh)]\n",
    "# for list of nodes to explore:\n",
    "    # check if move is legal - dest_height <= src_height+1\n",
    "    # if move legal add to bottom of list of nodes to explore (BFS) with current cur_steps\n",
    "    # update distance from each node to start\n",
    "    # only add nodes that have not yet been explored, as is BFS if they haven't already been visited then the distance will be longer"
   ]
  },
  {
   "cell_type": "code",
   "execution_count": 219,
   "id": "anticipated-immunology",
   "metadata": {},
   "outputs": [],
   "source": [
    "class Node:\n",
    "    def __init__(self,coords,char,height,neighbours,is_start,is_end):\n",
    "        self.coords=coords\n",
    "        self.char=char\n",
    "        self.height=height\n",
    "        self.neighbours=neighbours\n",
    "        self.is_start=is_start\n",
    "        self.is_end=is_end\n",
    "        self.is_explored=False\n",
    "        self.distance=None\n"
   ]
  },
  {
   "cell_type": "code",
   "execution_count": 220,
   "id": "hired-showcase",
   "metadata": {},
   "outputs": [],
   "source": [
    "#file=\"1_test.txt\"\n",
    "file=\"1_input.txt\"\n",
    "\n",
    "grid=[]\n",
    "letters=[chr(n) for n in range(97,123)] #+ [chr(n) for n in range(65,91)]\n",
    "l_vals=zip(letters,range(26))\n",
    "l_dict={l:v for l,v in l_vals}\n",
    "f=open(file,'r')\n",
    "y=0\n",
    "p2_starts=[]\n",
    "while True:\n",
    "    raw_line=f.readline()\n",
    "    if raw_line=='':\n",
    "        break #EOF\n",
    "    grid.append([])\n",
    "    line=raw_line.strip()\n",
    "    for x,char in enumerate(line):\n",
    "        char=char\n",
    "        coords=(y,x)\n",
    "        is_start=False\n",
    "        is_end=False\n",
    "        if char==\"S\":\n",
    "            height=l_dict[\"a\"]\n",
    "            is_start=True\n",
    "            start_coords=coords\n",
    "        elif char==\"E\":\n",
    "            height=l_dict[\"z\"]\n",
    "            is_end=True\n",
    "            end_coords=coords\n",
    "        else:\n",
    "            height=l_dict[char]\n",
    "        if height==0:\n",
    "            p2_starts.append(coords)\n",
    "        neighbours=[]#populate neighbours with following scan through grid\n",
    "        grid[y].append(Node(coords,char,height,neighbours,is_start,is_end))\n",
    "    y+=1\n",
    "        \n",
    "        "
   ]
  },
  {
   "cell_type": "code",
   "execution_count": 221,
   "id": "formal-obligation",
   "metadata": {},
   "outputs": [],
   "source": [
    "y=0\n",
    "x=0\n",
    "x_lim=len(grid[0])\n",
    "y_lim=len(grid)\n",
    "while y<y_lim:\n",
    "    while x<len(grid[0]):\n",
    "        node=grid[y][x]\n",
    "        # Left Neighbour\n",
    "        if x!=0:\n",
    "            node.neighbours.append(grid[y][x-1])\n",
    "        # Right Neighbour\n",
    "        if x!=x_lim-1:\n",
    "            node.neighbours.append(grid[y][x+1])\n",
    "        # Up Neighbour\n",
    "        if y!=0:\n",
    "            node.neighbours.append(grid[y-1][x])\n",
    "        if y!=y_lim-1:\n",
    "            node.neighbours.append(grid[y+1][x])\n",
    "        x+=1\n",
    "    x=0\n",
    "    y+=1\n",
    "\n",
    "            "
   ]
  },
  {
   "cell_type": "code",
   "execution_count": 200,
   "id": "elect-interval",
   "metadata": {},
   "outputs": [],
   "source": [
    "end_node=grid[end_coords[0]][end_coords[1]]\n",
    "cur_steps=0\n",
    "explore_stack=[(start_coords,cur_steps)]\n",
    "while len(explore_stack)>0:\n",
    "    cur_coords,cur_steps=explore_stack.pop(0)\n",
    "    \n",
    "    #print(f\"Exploring node {cur_coords}\")\n",
    "    cur_node=grid[cur_coords[0]][cur_coords[1]]\n",
    "    cur_node.is_explored=True\n",
    "    cur_node.distance=cur_steps\n",
    "    if cur_node.is_end:\n",
    "        pass\n",
    "    else:\n",
    "        if (end_node.distance is None) or (cur_steps+1<end_node.distance): #if path already too long stop\n",
    "            for neighbour in cur_node.neighbours:\n",
    "                #print(f\"{cur_node.height}, {neighbour.height}\")\n",
    "                if (neighbour.coords not in [zz[0] for zz in explore_stack]) and (neighbour.height <= cur_node.height+1) and (neighbour.is_explored==False):\n",
    "                    #print(f\"found legal move, {neighbour.coords}\")\n",
    "                    #legal move\n",
    "                    explore_stack.append((neighbour.coords,cur_steps+1))"
   ]
  },
  {
   "cell_type": "code",
   "execution_count": 201,
   "id": "practical-spice",
   "metadata": {},
   "outputs": [
    {
     "data": {
      "text/plain": [
       "520"
      ]
     },
     "execution_count": 201,
     "metadata": {},
     "output_type": "execute_result"
    }
   ],
   "source": [
    "end_node.distance"
   ]
  },
  {
   "cell_type": "markdown",
   "id": "tired-bhutan",
   "metadata": {},
   "source": [
    "--------------"
   ]
  },
  {
   "cell_type": "code",
   "execution_count": 222,
   "id": "animal-stationery",
   "metadata": {},
   "outputs": [],
   "source": [
    "# part 2\n",
    "distances=[]\n",
    "end_node=grid[end_coords[0]][end_coords[1]]\n",
    "for start_coords in p2_starts:\n",
    "    cur_steps=0\n",
    "    explore_stack=[(start_coords,cur_steps)]\n",
    "    while len(explore_stack)>0:\n",
    "        cur_coords,cur_steps=explore_stack.pop(0)\n",
    "\n",
    "        #print(f\"Exploring node {cur_coords}\")\n",
    "        cur_node=grid[cur_coords[0]][cur_coords[1]]\n",
    "        cur_node.is_explored=True\n",
    "        cur_node.distance=cur_steps\n",
    "        if cur_node.is_end:\n",
    "            pass\n",
    "        else:\n",
    "            if (end_node.distance is None) or (cur_steps+1<end_node.distance): #if path already too long stop\n",
    "                for neighbour in cur_node.neighbours:\n",
    "                    #print(f\"{cur_node.height}, {neighbour.height}\")\n",
    "                    if (neighbour.coords not in [zz[0] for zz in explore_stack]) and (neighbour.height <= cur_node.height+1) and (neighbour.is_explored==False):\n",
    "                        #print(f\"found legal move, {neighbour.coords}\")\n",
    "                        #legal move\n",
    "                        explore_stack.append((neighbour.coords,cur_steps+1))\n",
    "    distances.append(end_node.distance)\n",
    "    for row in grid:\n",
    "        for node in row:\n",
    "            node.is_explored=False\n",
    "            node.distance=None"
   ]
  },
  {
   "cell_type": "code",
   "execution_count": 226,
   "id": "suffering-pride",
   "metadata": {},
   "outputs": [
    {
     "name": "stdout",
     "output_type": "stream",
     "text": [
      "508\n"
     ]
    }
   ],
   "source": [
    "print(min(list(filter(lambda x: x is not None, distances))))"
   ]
  },
  {
   "cell_type": "code",
   "execution_count": null,
   "id": "upper-reverse",
   "metadata": {},
   "outputs": [],
   "source": []
  },
  {
   "cell_type": "code",
   "execution_count": null,
   "id": "executed-services",
   "metadata": {},
   "outputs": [],
   "source": []
  }
 ],
 "metadata": {
  "kernelspec": {
   "display_name": "Python 3",
   "language": "python",
   "name": "python3"
  },
  "language_info": {
   "codemirror_mode": {
    "name": "ipython",
    "version": 3
   },
   "file_extension": ".py",
   "mimetype": "text/x-python",
   "name": "python",
   "nbconvert_exporter": "python",
   "pygments_lexer": "ipython3",
   "version": "3.9.1"
  }
 },
 "nbformat": 4,
 "nbformat_minor": 5
}

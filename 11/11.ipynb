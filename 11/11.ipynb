{
 "cells": [
  {
   "cell_type": "code",
   "execution_count": 409,
   "id": "essential-institute",
   "metadata": {},
   "outputs": [],
   "source": [
    "import math\n",
    "import uuid\n",
    "target_dict=None\n",
    "class Monkey:\n",
    "    passlist=[]\n",
    "    modulos=[]\n",
    "    def __init__(self,monkeyid,starting_items,op_str,modulo,target_dict):\n",
    "        self.monkeyid=monkeyid\n",
    "        self.items=starting_items\n",
    "        self.op_str=op_str\n",
    "        self.modulo=modulo\n",
    "        self.target_dict=target_dict\n",
    "        self.test_str=\"test_result = (x % modulo)==0\"\n",
    "        self.inspect_ct=0\n",
    "        \n",
    "        \n",
    "    def op(self,worry):\n",
    "        global x\n",
    "        global op_result\n",
    "        x=worry\n",
    "        exec(self.op_str,globals())\n",
    "        #print(self.op_str)\n",
    "        #print(op_result)\n",
    "        return op_result\n",
    "    \n",
    "    def test(self,worry):\n",
    "        global modulo\n",
    "        global x\n",
    "        global test_result\n",
    "        modulo=self.modulo\n",
    "        x=worry\n",
    "        exec(self.test_str,globals())\n",
    "        #print(f\"{x}, {modulo}\")\n",
    "        #print(test_result)\n",
    "        return test_result\n",
    "    \n",
    "    def test2(self,worry_dict):\n",
    "        global modulo\n",
    "        global x\n",
    "        global test_result\n",
    "        modulo=self.modulo\n",
    "        x=worry_dict[modulo]\n",
    "        #print(x)\n",
    "        #print(modulo)\n",
    "        #print(self.test_str)\n",
    "        exec(self.test_str,globals())\n",
    "        #print(f\"{x}, {modulo}\")\n",
    "        #print(test_result)\n",
    "        return test_result\n",
    "    \n",
    "    def pass_items():\n",
    "        for m, item, test_result in Monkey.passlist:\n",
    "            m.items.remove(item)\n",
    "            #print(m.target_dict)\n",
    "            #print(f\"monkey {m.monkeyid} passes item with worry {item.worry_dict[m.modulo]} to monkey {m.target_dict[test_result]}\")\n",
    "            monkeys[m.target_dict[test_result]].items.append(item)\n",
    "\n",
    "        \n",
    "    def relief_item(item):\n",
    "        item.worry = int(math.floor(item.worry/3.0))\n",
    "        \n",
    "        \n",
    "    def inspect(self, item):\n",
    "        #print(item.worry)\n",
    "        item.worry = self.op(item.worry)\n",
    "        self.inspect_ct+=1\n",
    "        \n",
    "    def inspect2(self, item):\n",
    "       # print(f\"Monkey {self.monkeyid} inspects an item with worry {item.worry_dict}\")\n",
    "        #print(f\"opstring: {self.op_str}\")\n",
    "        for modulo in Monkey.modulos:\n",
    "            global x\n",
    "            global n\n",
    "            global op_result\n",
    "            operator=self.op_str.split()[3]\n",
    "            a= self.op_str.split()[2] if self.op_str.split()[2]==\"x\" else int(self.op_str.split()[2])\n",
    "            b= self.op_str.split()[4] if self.op_str.split()[4]==\"x\" else int(self.op_str.split()[4])\n",
    "            x=item.worry_dict[modulo]\n",
    "            n=modulo\n",
    "            op_str_2=f\"op_result = (({a}%n){operator}({b}%n))%n\"\n",
    "            exec(op_str_2,globals())\n",
    "            #print(self.op_str)\n",
    "            #print(op_result)\n",
    "            item.worry_dict[modulo] = op_result\n",
    "       # print(f\"Worry Result: {item.worry_dict}\")\n",
    "        self.inspect_ct+=1\n",
    "\n",
    "    def gets_bored(self, item):\n",
    "        self.passlist.append((self,item,self.test(item.worry)))\n",
    "        \n",
    "    def gets_bored2(self, item):\n",
    "        self.passlist.append((self,item,self.test2(item.worry_dict)))\n",
    "        \n",
    "        \n",
    "class Item:\n",
    "    def __init__(self,worry):\n",
    "        self.id = uuid.uuid4()\n",
    "        self.worry=worry\n",
    "        self.worry_dict={}\n",
    "        "
   ]
  },
  {
   "cell_type": "code",
   "execution_count": 410,
   "id": "advisory-closer",
   "metadata": {},
   "outputs": [
    {
     "name": "stdout",
     "output_type": "stream",
     "text": [
      "monkeyid : 0\n",
      "End of Monkey\n",
      "monkeyid : 1\n",
      "End of Monkey\n",
      "monkeyid : 2\n",
      "End of Monkey\n",
      "monkeyid : 3\n",
      "End of Monkey\n",
      "monkeyid : 4\n",
      "End of Monkey\n",
      "monkeyid : 5\n",
      "End of Monkey\n",
      "monkeyid : 6\n",
      "End of Monkey\n",
      "monkeyid : 7\n",
      "End of Final Monkey\n"
     ]
    }
   ],
   "source": [
    "file=\"1_input.txt\"\n",
    "#file=\"1_test.txt\"\n",
    "\n",
    "def run_op(op_str,x):\n",
    "    return exec(op_str)\n",
    "target_dict={}\n",
    "monkeys=[]\n",
    "f=open(file,'r')\n",
    "while True:\n",
    "    raw_line=f.readline()\n",
    "    if raw_line==\"\":\n",
    "        print(\"End of Final Monkey\")\n",
    "        monkeys.append(Monkey(monkeyid,starting_items,op_str,modulo,target_dict))\n",
    "        break #EOF\n",
    "    line=raw_line.strip().split()\n",
    "    #print(line)\n",
    "    if len(line)==0:\n",
    "        #end of monkey\n",
    "        print(\"End of Monkey\")\n",
    "        #print(target_dict)\n",
    "        monkeys.append(Monkey(monkeyid,starting_items,op_str,modulo,target_dict))\n",
    "        target_dict={}\n",
    "        continue\n",
    "    else: \n",
    "        if line[0]==\"Monkey\":\n",
    "            monkeyid=int(line[1][:-1])\n",
    "            print(f\"monkeyid : {monkeyid}\")\n",
    "        if \" \".join(line[0:2])==\"Starting items:\":\n",
    "            starting_items_worry=[int(x.strip(\",\")) for x in line[2:]]\n",
    "            starting_items = [Item(x) for x in starting_items_worry]\n",
    "            \n",
    "        if line[0]==\"Operation:\":\n",
    "            op_str=\" \".join(line[1:])\n",
    "            #eq_index=op_parts.index(\"=\")\n",
    "            #op_str=\" \".join(op_parts[eq_index+1:])\n",
    "            op_str=op_str.replace(\"new\",\"op_result\")\n",
    "            op_str=op_str.replace(\"old\",\"x\")\n",
    "            \n",
    "            \n",
    "        if line[0] == \"Test:\":\n",
    "            modulo=int(line[-1])\n",
    "            test_result=0\n",
    "            test_str=\"test_result = (x % modulo)==0\"\n",
    "            \n",
    "        \n",
    "        if line[0]==\"If\":\n",
    "            target_dict[line[1]==\"true:\"] = int(line[-1])\n",
    "            #print(target_dict)\n",
    "            \n"
   ]
  },
  {
   "cell_type": "markdown",
   "id": "tracked-birmingham",
   "metadata": {},
   "source": [
    "-----"
   ]
  },
  {
   "cell_type": "code",
   "execution_count": 319,
   "id": "devoted-improvement",
   "metadata": {},
   "outputs": [],
   "source": [
    "# Part 1\n",
    "for a in range(20):\n",
    "    for m in monkeys:\n",
    "        for i in m.items:\n",
    "            m.inspect(i)\n",
    "            Monkey.relief_item(i)\n",
    "            m.gets_bored(i)\n",
    "        Monkey.pass_items()\n",
    "        Monkey.passlist=[]"
   ]
  },
  {
   "cell_type": "code",
   "execution_count": 320,
   "id": "limiting-resort",
   "metadata": {},
   "outputs": [
    {
     "name": "stdout",
     "output_type": "stream",
     "text": [
      "10605\n"
     ]
    }
   ],
   "source": [
    "activity = [m.inspect_ct for m in monkeys]\n",
    "activity.sort(reverse=True)\n",
    "monkey_business=activity[0] * activity[1]\n",
    "print(monkey_business)"
   ]
  },
  {
   "cell_type": "markdown",
   "id": "incorrect-monaco",
   "metadata": {},
   "source": [
    "-------"
   ]
  },
  {
   "cell_type": "code",
   "execution_count": 411,
   "id": "stable-university",
   "metadata": {},
   "outputs": [
    {
     "name": "stdout",
     "output_type": "stream",
     "text": [
      "1 -  {0: 3, 1: 2, 2: 7, 3: 12, 4: 11, 5: 8, 6: 11, 7: 15}\n",
      "20 -  {0: 217, 1: 161, 2: 88, 3: 308, 4: 289, 5: 240, 6: 286, 7: 246}\n",
      "1000 -  {0: 11970, 1: 8006, 2: 4003, 3: 15983, 4: 15092, 5: 11996, 6: 15957, 7: 12006}\n",
      "2000 -  {0: 23976, 1: 16002, 2: 8004, 3: 31988, 4: 30201, 5: 24002, 6: 31955, 7: 24012}\n",
      "3000 -  {0: 35973, 1: 24000, 2: 12003, 3: 47984, 4: 45317, 5: 35999, 6: 47960, 7: 36009}\n",
      "4000 -  {0: 47971, 1: 32006, 2: 16002, 3: 63987, 4: 60425, 5: 47997, 6: 63956, 7: 48007}\n",
      "5000 -  {0: 59968, 1: 40006, 2: 20007, 3: 79983, 4: 75539, 5: 59994, 6: 79959, 7: 60004}\n",
      "6000 -  {0: 71973, 1: 48005, 2: 24006, 3: 95988, 4: 90645, 5: 71999, 6: 95955, 7: 72009}\n",
      "7000 -  {0: 83972, 1: 56001, 2: 28006, 3: 111984, 4: 105762, 5: 83998, 6: 111960, 7: 84008}\n",
      "8000 -  {0: 95972, 1: 64005, 2: 32003, 3: 127983, 4: 120870, 5: 95998, 6: 127956, 7: 96008}\n",
      "9000 -  {0: 107973, 1: 72005, 2: 36002, 3: 143985, 4: 135980, 5: 107999, 6: 143955, 7: 108009}\n",
      "10000 -  {0: 119970, 1: 80006, 2: 40003, 3: 159983, 4: 151092, 5: 119996, 6: 159957, 7: 120006}\n",
      "done!\n"
     ]
    }
   ],
   "source": [
    "# part 2\n",
    "modulos=[]\n",
    "for m in monkeys:\n",
    "    modulos.append(m.modulo)           \n",
    "Monkey.modulos=modulos\n",
    "\n",
    "for m in monkeys:\n",
    "    for i in m.items:\n",
    "        i.worry_dict = {modulo:i.worry for modulo in Monkey.modulos}\n",
    "\n",
    "for iterator in range(10000):\n",
    "    for m in monkeys:\n",
    "        for i in m.items:\n",
    "            #m.inspect(i)\n",
    "            m.inspect2(i)\n",
    "            m.gets_bored2(i)\n",
    "        Monkey.pass_items()\n",
    "        Monkey.passlist=[]\n",
    "    if iterator+1 in ([1,20] + [jj for jj in range(0,100001,1000)]):\n",
    "        activity= {m.monkeyid:m.inspect_ct for m in monkeys}\n",
    "        print(f\"{iterator+1} -  {activity}\")\n",
    "print(\"done!\")\n",
    "        "
   ]
  },
  {
   "cell_type": "code",
   "execution_count": 412,
   "id": "coordinate-stations",
   "metadata": {},
   "outputs": [
    {
     "name": "stdout",
     "output_type": "stream",
     "text": [
      "25590400731\n"
     ]
    }
   ],
   "source": [
    "activity = [m.inspect_ct for m in monkeys]\n",
    "activity.sort(reverse=True)\n",
    "monkey_business=activity[0] * activity[1]\n",
    "print(monkey_business)\n",
    "# 2632953213 too low"
   ]
  },
  {
   "cell_type": "code",
   "execution_count": null,
   "id": "optional-commercial",
   "metadata": {},
   "outputs": [],
   "source": [
    "# keep track of each modulo value? just adding to each on\n",
    "# https://en.wikipedia.org/wiki/Modulo_operation#Properties_(identities)\n",
    "#(a + b) mod n = [(a mod n) + (b mod n)] mod n.\n",
    "# ab mod n = [(a mod n)(b mod n)] mod n."
   ]
  }
 ],
 "metadata": {
  "kernelspec": {
   "display_name": "Python 3",
   "language": "python",
   "name": "python3"
  },
  "language_info": {
   "codemirror_mode": {
    "name": "ipython",
    "version": 3
   },
   "file_extension": ".py",
   "mimetype": "text/x-python",
   "name": "python",
   "nbconvert_exporter": "python",
   "pygments_lexer": "ipython3",
   "version": "3.9.1"
  }
 },
 "nbformat": 4,
 "nbformat_minor": 5
}

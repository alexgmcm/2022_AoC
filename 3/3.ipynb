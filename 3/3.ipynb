{
 "cells": [
  {
   "cell_type": "code",
   "execution_count": null,
   "id": "portuguese-tuesday",
   "metadata": {},
   "outputs": [],
   "source": [
    "#part 1\n",
    "#split strings in half\n",
    "#find character that appears in both halves\n",
    "#convert the list of shared characters to their priority values\n",
    "#sum these values"
   ]
  },
  {
   "cell_type": "code",
   "execution_count": 51,
   "id": "angry-stevens",
   "metadata": {},
   "outputs": [],
   "source": [
    "file=\"1_input.txt\"\n",
    "#file=\"1_test.txt\"\n",
    "f=open(file,'r')"
   ]
  },
  {
   "cell_type": "code",
   "execution_count": 22,
   "id": "scheduled-quarter",
   "metadata": {},
   "outputs": [],
   "source": [
    "# priority value dict\n",
    "d1={chr(i):x for i,x in zip(range(97,123), range(1,27))}\n",
    "d2={chr(i):x for i,x in zip(range(65,91), range(27,53))}\n",
    "d={**d1,**d2}\n"
   ]
  },
  {
   "cell_type": "code",
   "execution_count": 23,
   "id": "national-spectrum",
   "metadata": {},
   "outputs": [],
   "source": [
    "# part 1\n",
    "common_chars=[]\n",
    "for line in f:\n",
    "    proc_line=line.strip()\n",
    "    half_pt=int(len(proc_line)/2)\n",
    "    h1=proc_line[:half_pt]\n",
    "    h2=proc_line[half_pt:]\n",
    "    common_char=list(set(h1).intersection(h2))[0]\n",
    "    common_chars.append(common_char)\n",
    "vals= list(map(lambda x: d[x],common_chars))\n",
    "total=sum(vals)\n",
    "print(total)\n",
    "f.close()"
   ]
  },
  {
   "cell_type": "code",
   "execution_count": 52,
   "id": "quality-cotton",
   "metadata": {},
   "outputs": [
    {
     "name": "stdout",
     "output_type": "stream",
     "text": [
      "['T', 'R', 'Z', 'F', 'J', 'c', 'B', 'B', 'h', 'j', 'V', 'd', 'n', 'g', 'W', 'G', 'B', 'b', 'D', 'Z', 'N', 'l', 'h', 'J', 'q', 'S', 'v', 'z', 'D', 'h', 'd', 'z', 'H', 'T', 'r', 't', 'm', 'H', 'r', 'P', 'R', 'L', 'G', 'c', 'D', 'R', 'Z', 'd', 'T', 'W', 'J', 'G', 'm', 'l', 'n', 'D', 'v', 'J', 'D', 'b', 'q', 'm', 'M', 'D', 'n', 'h', 'Z', 'N', 't', 'c', 'J', 'J', 's', 'Z', 'B', 'd', 'w', 'H', 'F', 'h', 'j', 'c', 'h', 'B', 'W', 'n', 'M', 'S', 'b', 'v', 'v', 'r', 'q', 's', 'n', 'J', 'L', 'N', 'w', 'D']\n",
      "2609\n"
     ]
    }
   ],
   "source": [
    "# part 2\n",
    "cur_input_grp=\"\"\n",
    "cont=True\n",
    "common_chars=[]\n",
    "while cont:\n",
    "    for i in range(3):\n",
    "        cur_line=f.readline().strip(\" \")\n",
    "        if cur_line=='':\n",
    "            cont=False\n",
    "        else:\n",
    "            cur_input_grp+=cur_line\n",
    "    if cont==False:\n",
    "        break\n",
    "    else:\n",
    "        packs=cur_input_grp.split()\n",
    "        common_char=list(set(packs[0]).intersection(packs[1]).intersection(packs[2]))[0]\n",
    "        common_chars.append(common_char)\n",
    "        cur_input_grp=\"\"\n",
    "\n",
    "print(common_chars)\n",
    "vals= list(map(lambda x: d[x],common_chars))\n",
    "total=sum(vals)\n",
    "print(total)\n",
    "\n",
    "    \n",
    "f.close()"
   ]
  },
  {
   "cell_type": "code",
   "execution_count": 18,
   "id": "toxic-commissioner",
   "metadata": {},
   "outputs": [
    {
     "data": {
      "text/plain": [
       "[16, 38, 42, 22, 20, 19]"
      ]
     },
     "execution_count": 18,
     "metadata": {},
     "output_type": "execute_result"
    }
   ],
   "source": []
  },
  {
   "cell_type": "code",
   "execution_count": 42,
   "id": "rising-progressive",
   "metadata": {},
   "outputs": [
    {
     "name": "stdout",
     "output_type": "stream",
     "text": [
      "\n",
      "<class 'str'>\n"
     ]
    }
   ],
   "source": [
    "test=f.readline()\n",
    "print(test)\n",
    "print(type(test))"
   ]
  },
  {
   "cell_type": "code",
   "execution_count": null,
   "id": "cooperative-bumper",
   "metadata": {},
   "outputs": [],
   "source": []
  }
 ],
 "metadata": {
  "kernelspec": {
   "display_name": "Python 3",
   "language": "python",
   "name": "python3"
  },
  "language_info": {
   "codemirror_mode": {
    "name": "ipython",
    "version": 3
   },
   "file_extension": ".py",
   "mimetype": "text/x-python",
   "name": "python",
   "nbconvert_exporter": "python",
   "pygments_lexer": "ipython3",
   "version": "3.9.1"
  }
 },
 "nbformat": 4,
 "nbformat_minor": 5
}

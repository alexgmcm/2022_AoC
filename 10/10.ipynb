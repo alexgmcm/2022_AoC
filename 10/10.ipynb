{
 "cells": [
  {
   "cell_type": "code",
   "execution_count": 28,
   "id": "professional-designation",
   "metadata": {},
   "outputs": [],
   "source": [
    "file=\"1_input.txt\"\n",
    "#file=\"1_test.txt\"\n",
    "\n",
    "clk=1\n",
    "x=1\n",
    "inc_clk=-1\n",
    "readline=True\n",
    "sig_strengths={}\n",
    "f=open(file,'r')\n",
    "output_str=\"\"\n",
    "while True:\n",
    "    if readline:\n",
    "        line=f.readline().strip()\n",
    "        if line == \"\":\n",
    "            break\n",
    "        cmd=line.split()\n",
    "    #print(f\"{clk}, {x}\")\n",
    "    if (clk-1) % 40 in [x-1,x,x+1]:\n",
    "        output_str+=\"#\"\n",
    "    else:\n",
    "        output_str+=\".\"\n",
    "    if clk==inc_clk:\n",
    "        x += int(cmd[1])\n",
    "        readline=True\n",
    "    if cmd[0]==\"noop\":\n",
    "        pass\n",
    "    if clk!=inc_clk and cmd[0]==\"addx\":\n",
    "        inc_clk=clk+1\n",
    "        readline=False\n",
    "    \n",
    "    clk+=1\n",
    "   \n",
    "        \n",
    "    #if clk in range(20):\n",
    "            #print(f\"{clk}, {x}\")\n",
    "\n",
    "    if clk in [20,60,100,140,180,220]:\n",
    "        \n",
    "        sig_strengths[clk]=clk*x\n",
    "     "
   ]
  },
  {
   "cell_type": "code",
   "execution_count": 29,
   "id": "raised-techno",
   "metadata": {},
   "outputs": [
    {
     "data": {
      "text/plain": [
       "17940"
      ]
     },
     "execution_count": 29,
     "metadata": {},
     "output_type": "execute_result"
    }
   ],
   "source": [
    "sum(sig_strengths.values())"
   ]
  },
  {
   "cell_type": "code",
   "execution_count": 30,
   "id": "unusual-attribute",
   "metadata": {},
   "outputs": [
    {
     "name": "stdout",
     "output_type": "stream",
     "text": [
      "####..##..###...##....##.####...##.####.\n",
      "...#.#..#.#..#.#..#....#.#.......#....#.\n",
      "..#..#....###..#..#....#.###.....#...#..\n",
      ".#...#....#..#.####....#.#.......#..#...\n",
      "#....#..#.#..#.#..#.#..#.#....#..#.#....\n",
      "####..##..###..#..#..##..#.....##..####.\n",
      "\n"
     ]
    }
   ],
   "source": [
    "for j in range(7):\n",
    "    print(output_str[j*40:(j+1)*40])\n"
   ]
  },
  {
   "cell_type": "code",
   "execution_count": null,
   "id": "killing-surface",
   "metadata": {},
   "outputs": [],
   "source": []
  },
  {
   "cell_type": "code",
   "execution_count": null,
   "id": "organic-bryan",
   "metadata": {},
   "outputs": [],
   "source": []
  }
 ],
 "metadata": {
  "kernelspec": {
   "display_name": "Python 3",
   "language": "python",
   "name": "python3"
  },
  "language_info": {
   "codemirror_mode": {
    "name": "ipython",
    "version": 3
   },
   "file_extension": ".py",
   "mimetype": "text/x-python",
   "name": "python",
   "nbconvert_exporter": "python",
   "pygments_lexer": "ipython3",
   "version": "3.9.1"
  }
 },
 "nbformat": 4,
 "nbformat_minor": 5
}

{
 "cells": [
  {
   "cell_type": "code",
   "execution_count": 58,
   "id": "structured-electronics",
   "metadata": {},
   "outputs": [],
   "source": [
    "file=\"1_input.txt\"\n",
    "#file=\"1_test.txt\"\n",
    "f=open(file,'r')"
   ]
  },
  {
   "cell_type": "code",
   "execution_count": 59,
   "id": "purple-active",
   "metadata": {},
   "outputs": [
    {
     "name": "stdout",
     "output_type": "stream",
     "text": [
      "907\n"
     ]
    }
   ],
   "source": [
    "# part 1\n",
    "p1_ct=0\n",
    "p2_ct=0\n",
    "\n",
    "for line in f:\n",
    "    jobs=line.strip().split(',')\n",
    "    \n",
    "    for i,job in enumerate(jobs):\n",
    "        nums=job.split(\"-\")\n",
    "        r=list(range(int(nums[0]),int(nums[1])+1))\n",
    "        jobs[i] = r\n",
    "        #print(jobs)\n",
    "    if set(jobs[0]).issubset(set(jobs[1])) or set(jobs[1]).issubset(set(jobs[0])):\n",
    "        p1_ct+=1\n",
    "    if set(jobs[0]).intersection(jobs[1]):\n",
    "        p2_ct+=1\n",
    "        #print(jobs)\n",
    "print(p2_ct)"
   ]
  },
  {
   "cell_type": "code",
   "execution_count": 51,
   "id": "divine-chemical",
   "metadata": {},
   "outputs": [
    {
     "data": {
      "text/plain": [
       "set()"
      ]
     },
     "execution_count": 51,
     "metadata": {},
     "output_type": "execute_result"
    }
   ],
   "source": [
    "{2}.intersection({3})"
   ]
  },
  {
   "cell_type": "code",
   "execution_count": null,
   "id": "amended-mouth",
   "metadata": {},
   "outputs": [],
   "source": []
  }
 ],
 "metadata": {
  "kernelspec": {
   "display_name": "Python 3",
   "language": "python",
   "name": "python3"
  },
  "language_info": {
   "codemirror_mode": {
    "name": "ipython",
    "version": 3
   },
   "file_extension": ".py",
   "mimetype": "text/x-python",
   "name": "python",
   "nbconvert_exporter": "python",
   "pygments_lexer": "ipython3",
   "version": "3.9.1"
  }
 },
 "nbformat": 4,
 "nbformat_minor": 5
}

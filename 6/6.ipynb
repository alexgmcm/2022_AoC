{
 "cells": [
  {
   "cell_type": "markdown",
   "id": "front-ghana",
   "metadata": {},
   "source": [
    "* your subroutine needs to identify the first position where the four most recently received characters were all different.\n",
    "* Specifically, it needs to report the number of characters from the beginning of the buffer to the end of the first such four-character marker.\n"
   ]
  },
  {
   "cell_type": "code",
   "execution_count": 6,
   "id": "educational-thickness",
   "metadata": {},
   "outputs": [
    {
     "name": "stdout",
     "output_type": "stream",
     "text": [
      "1848\n"
     ]
    }
   ],
   "source": [
    "# part 1\n",
    "file=\"1_input.txt\"\n",
    "#file=\"1_test.txt\"\n",
    "f=open(file,'r')\n",
    "i=0\n",
    "char_buffer=[]\n",
    "while True:\n",
    "    i=i+1\n",
    "    char = f.read(1)\n",
    "    if not char:\n",
    "        break #EOF\n",
    "    if len(char_buffer)==4:\n",
    "        char_buffer.pop(0)\n",
    "    char_buffer.append(char)\n",
    "    if len(char_buffer)==4 and (len(set(char_buffer))==len(char_buffer)):\n",
    "        print(i)\n",
    "        break\n",
    "\n",
    "f.close()"
   ]
  },
  {
   "cell_type": "code",
   "execution_count": 9,
   "id": "accessible-christmas",
   "metadata": {},
   "outputs": [
    {
     "data": {
      "text/plain": [
       "'qmgbljsphdztnv'"
      ]
     },
     "execution_count": 9,
     "metadata": {},
     "output_type": "execute_result"
    }
   ],
   "source": [
    "test=\"mjqjpqmgbljsphdztnvjfqwrcgsmlb\"\n",
    "test[5:19]"
   ]
  },
  {
   "cell_type": "code",
   "execution_count": 10,
   "id": "rubber-cloud",
   "metadata": {},
   "outputs": [
    {
     "name": "stdout",
     "output_type": "stream",
     "text": [
      "2308\n"
     ]
    }
   ],
   "source": [
    "# part 2\n",
    "file=\"1_input.txt\"\n",
    "#file=\"1_test.txt\"\n",
    "f=open(file,'r')\n",
    "i=0\n",
    "char_buffer=[]\n",
    "while True:\n",
    "    i=i+1\n",
    "    char = f.read(1)\n",
    "    if not char:\n",
    "        break #EOF\n",
    "    if len(char_buffer)==14:\n",
    "        char_buffer.pop(0)\n",
    "    char_buffer.append(char)\n",
    "    if len(char_buffer)==14 and (len(set(char_buffer))==len(char_buffer)):\n",
    "        print(i)\n",
    "        break\n",
    "\n",
    "f.close()"
   ]
  },
  {
   "cell_type": "code",
   "execution_count": null,
   "id": "concerned-symposium",
   "metadata": {},
   "outputs": [],
   "source": []
  }
 ],
 "metadata": {
  "kernelspec": {
   "display_name": "Python 3",
   "language": "python",
   "name": "python3"
  },
  "language_info": {
   "codemirror_mode": {
    "name": "ipython",
    "version": 3
   },
   "file_extension": ".py",
   "mimetype": "text/x-python",
   "name": "python",
   "nbconvert_exporter": "python",
   "pygments_lexer": "ipython3",
   "version": "3.9.1"
  }
 },
 "nbformat": 4,
 "nbformat_minor": 5
}

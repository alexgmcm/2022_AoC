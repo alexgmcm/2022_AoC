{
 "cells": [
  {
   "cell_type": "code",
   "execution_count": 20,
   "id": "featured-dollar",
   "metadata": {},
   "outputs": [],
   "source": [
    "# define grid as dictionary of co-ords,\n",
    "# set initial point as (0,0)\n",
    "# move step-by-step, checking if destination exists, else creating it\n",
    "# if head is two steps up,down,left,right from tail then move tail in that direction\n",
    "# if head is diagonally touching and moves further away then move tail diagonally\n"
   ]
  },
  {
   "cell_type": "code",
   "execution_count": 36,
   "id": "capital-tender",
   "metadata": {},
   "outputs": [],
   "source": [
    "def get_sign(x):\n",
    "    return (x>0) - (x<0)\n",
    "\n",
    "def get_new_tail_pos(head,tail):\n",
    "    y_dist = head[0]-tail[0]\n",
    "    x_dist = head[1]-tail[1]\n",
    "    # is touching, don't move\n",
    "    if abs(y_dist)<=1 and abs(x_dist)<=1:\n",
    "        return tail\n",
    "    # cardinal directions\n",
    "    if abs(y_dist)==2 and x_dist==0:\n",
    "        return (tail[0]+get_sign(y_dist),tail[1])\n",
    "    if y_dist==0 and abs(x_dist)==2:\n",
    "        return (tail[0],tail[1]+get_sign(x_dist))\n",
    "    # diagonal directions\n",
    "    if abs(y_dist)>0 and abs(x_dist)>0:\n",
    "        return (tail[0]+get_sign(y_dist),tail[1]+get_sign(x_dist))\n",
    "\n",
    "    "
   ]
  },
  {
   "cell_type": "code",
   "execution_count": 30,
   "id": "banned-india",
   "metadata": {},
   "outputs": [],
   "source": [
    "file=\"1_input.txt\"\n",
    "#file=\"1_test.txt\"\n",
    "grid={}\n",
    "grid[(0,0)]=True # has been visited by tail\n",
    "s=(0,0) # initial position\n",
    "tail=(0,0)\n",
    "head=(0,0)\n",
    "\n",
    "f=open(file,'r')\n",
    "for line in f:\n",
    "    instruction=line.strip().split()\n",
    "    direction=instruction[0]\n",
    "    distance=int(instruction[1])\n",
    "    axis = 1 if direction in [\"R\",\"L\"] else 0\n",
    "    sign = -1 if direction in [\"D\",\"L\"] else 1\n",
    "    for i in range(distance):\n",
    "        head = (head[axis]+sign,head[1]) if axis==0 else (head[0],head[axis]+sign)\n",
    "        tail = get_new_tail_pos(head,tail)\n",
    "        grid[tail] = True"
   ]
  },
  {
   "cell_type": "code",
   "execution_count": 31,
   "id": "meaning-visibility",
   "metadata": {},
   "outputs": [
    {
     "data": {
      "text/plain": [
       "5930"
      ]
     },
     "execution_count": 31,
     "metadata": {},
     "output_type": "execute_result"
    }
   ],
   "source": [
    "sum(grid.values())"
   ]
  },
  {
   "cell_type": "markdown",
   "id": "stylish-watts",
   "metadata": {},
   "source": [
    "------------"
   ]
  },
  {
   "cell_type": "code",
   "execution_count": 41,
   "id": "biological-setup",
   "metadata": {},
   "outputs": [],
   "source": [
    "knots=[]\n",
    "for x in range(10):\n",
    "    knots.append((0,0))\n",
    "    \n",
    "file=\"1_input.txt\"\n",
    "#file=\"1_test.txt\"\n",
    "#file=\"2_test.txt\"\n",
    "\n",
    "grid={}\n",
    "grid[(0,0)]=True # has been visited by tail\n",
    "s=(0,0) # initial position\n",
    "\n",
    "\n",
    "f=open(file,'r')\n",
    "for line in f:\n",
    "    instruction=line.strip().split()\n",
    "    direction=instruction[0]\n",
    "    distance=int(instruction[1])\n",
    "    axis = 1 if direction in [\"R\",\"L\"] else 0\n",
    "    sign = -1 if direction in [\"D\",\"L\"] else 1\n",
    "    for i in range(distance):\n",
    "        knots[0] = (knots[0][axis]+sign,knots[0][1]) if axis==0 else (knots[0][0],knots[0][axis]+sign)\n",
    "        for j in range(1,10):\n",
    "            knots[j] = get_new_tail_pos(knots[j-1],knots[j])\n",
    "            if j == 9:\n",
    "                grid[knots[j]]=True"
   ]
  },
  {
   "cell_type": "code",
   "execution_count": 42,
   "id": "bibliographic-narrative",
   "metadata": {},
   "outputs": [
    {
     "data": {
      "text/plain": [
       "2443"
      ]
     },
     "execution_count": 42,
     "metadata": {},
     "output_type": "execute_result"
    }
   ],
   "source": [
    "sum(grid.values())"
   ]
  },
  {
   "cell_type": "code",
   "execution_count": null,
   "id": "measured-sphere",
   "metadata": {},
   "outputs": [],
   "source": []
  }
 ],
 "metadata": {
  "kernelspec": {
   "display_name": "Python 3",
   "language": "python",
   "name": "python3"
  },
  "language_info": {
   "codemirror_mode": {
    "name": "ipython",
    "version": 3
   },
   "file_extension": ".py",
   "mimetype": "text/x-python",
   "name": "python",
   "nbconvert_exporter": "python",
   "pygments_lexer": "ipython3",
   "version": "3.9.1"
  }
 },
 "nbformat": 4,
 "nbformat_minor": 5
}

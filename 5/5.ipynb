{
 "cells": [
  {
   "cell_type": "code",
   "execution_count": 225,
   "id": "greater-analyst",
   "metadata": {},
   "outputs": [],
   "source": [
    "file=\"1_input.txt\"\n",
    "#file=\"1_test.txt\"\n",
    "f=open(file,'r')"
   ]
  },
  {
   "cell_type": "code",
   "execution_count": 226,
   "id": "necessary-specific",
   "metadata": {},
   "outputs": [],
   "source": [
    "init_state_input=[]\n",
    "proc_input=[]\n",
    "while True:\n",
    "    l = f.readline()\n",
    "    if l.strip()=='':\n",
    "        break\n",
    "    #print(l)\n",
    "    init_state_input.append(l.strip(\"\\n\"))\n",
    "init_state_input.reverse()\n",
    "    "
   ]
  },
  {
   "cell_type": "code",
   "execution_count": 227,
   "id": "unusual-forestry",
   "metadata": {},
   "outputs": [],
   "source": [
    "keys = init_state_input.pop(0).strip().split()\n",
    "crane_dict={int(k):[] for k in keys}\n",
    "for line in init_state_input:\n",
    "    for i in crane_dict.keys():\n",
    "        x = line[(i-1)*3 + (i-1): (i*3)+(i-1)]\n",
    "        crane_dict[i].append(x)"
   ]
  },
  {
   "cell_type": "code",
   "execution_count": 228,
   "id": "complimentary-lender",
   "metadata": {},
   "outputs": [],
   "source": [
    "for i in crane_dict.keys():\n",
    "    crane_dict[i] = list(filter(lambda x: not x.isspace(), crane_dict[i]))\n",
    "#crane_dict"
   ]
  },
  {
   "cell_type": "code",
   "execution_count": 229,
   "id": "described-uganda",
   "metadata": {},
   "outputs": [],
   "source": [
    "raw_instructions=[]\n",
    "while True:\n",
    "    l = f.readline()\n",
    "    if l.strip()=='':\n",
    "        break\n",
    "    #print(l)\n",
    "    raw_instructions.append(l.strip(\"\\n\"))\n"
   ]
  },
  {
   "cell_type": "code",
   "execution_count": 230,
   "id": "qualified-familiar",
   "metadata": {},
   "outputs": [],
   "source": [
    "proc_instructions=[]\n",
    "for line in raw_instructions:\n",
    "    nums = line.split(\" \")\n",
    "    quantity=int(nums[1])\n",
    "    src=int(nums[3])\n",
    "    dest=int(nums[-1])\n",
    "    proc_instructions.append((quantity,src,dest))\n",
    "#proc_instructions"
   ]
  },
  {
   "cell_type": "code",
   "execution_count": 233,
   "id": "otherwise-optimization",
   "metadata": {},
   "outputs": [],
   "source": [
    "part=2\n",
    "if part==1:\n",
    "    # part 1 (can use pop)\n",
    "    for instruction in proc_instructions:\n",
    "        for i in range(instruction[0]):\n",
    "            mov = crane_dict[instruction[1]].pop()\n",
    "            crane_dict[instruction[2]].append(mov)\n",
    "\n",
    "if part==2:\n",
    "    # part 2 (no pop)\n",
    "    for instruction in proc_instructions:\n",
    "        mov = crane_dict[instruction[1]][-instruction[0]:]\n",
    "        del crane_dict[instruction[1]][-instruction[0]:]\n",
    "        crane_dict[instruction[2]].extend(mov)\n",
    "    "
   ]
  },
  {
   "cell_type": "code",
   "execution_count": 234,
   "id": "serial-villa",
   "metadata": {},
   "outputs": [
    {
     "name": "stdout",
     "output_type": "stream",
     "text": [
      "TPWCGNCCG\n"
     ]
    }
   ],
   "source": [
    "result=[]\n",
    "for x in crane_dict.items():\n",
    "    result.append(x[-1][-1])\n",
    "output=''.join(result).replace(\"[\",\"\").replace(\"]\",\"\")\n",
    "print(output)"
   ]
  },
  {
   "cell_type": "code",
   "execution_count": null,
   "id": "existing-auckland",
   "metadata": {},
   "outputs": [],
   "source": []
  }
 ],
 "metadata": {
  "kernelspec": {
   "display_name": "Python 3",
   "language": "python",
   "name": "python3"
  },
  "language_info": {
   "codemirror_mode": {
    "name": "ipython",
    "version": 3
   },
   "file_extension": ".py",
   "mimetype": "text/x-python",
   "name": "python",
   "nbconvert_exporter": "python",
   "pygments_lexer": "ipython3",
   "version": "3.9.1"
  }
 },
 "nbformat": 4,
 "nbformat_minor": 5
}

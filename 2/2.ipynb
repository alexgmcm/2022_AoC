{
 "cells": [
  {
   "cell_type": "code",
   "execution_count": 19,
   "id": "pressing-magazine",
   "metadata": {},
   "outputs": [],
   "source": [
    "file=\"1_input.txt\"\n",
    "#file=\"1_test.txt\"\n",
    "f=open(file,'r')"
   ]
  },
  {
   "cell_type": "code",
   "execution_count": 20,
   "id": "rotary-livestock",
   "metadata": {},
   "outputs": [
    {
     "name": "stdout",
     "output_type": "stream",
     "text": [
      "13526\n"
     ]
    }
   ],
   "source": [
    "shape_vals={\"X\":1,\"Y\":2,\"Z\":3}\n",
    "def check_result(move1,move2):\n",
    "    if ((move1==\"A\" and move2==\"Y\")\n",
    "    or (move1==\"B\" and move2==\"Z\")\n",
    "    or (move1==\"C\" and move2==\"X\")):\n",
    "        return 6\n",
    "    if ((move1==\"A\" and move2==\"Z\")\n",
    "    or (move1==\"B\" and move2==\"X\")\n",
    "    or (move1==\"C\" and move2==\"Y\")):\n",
    "        return 0\n",
    "    if ((move1==\"A\" and move2==\"X\")\n",
    "    or (move1==\"B\" and move2==\"Y\")\n",
    "    or (move1==\"C\" and move2==\"Z\")):\n",
    "        return 3\n",
    "    return None\n",
    "\n",
    "\n",
    "total_score=0\n",
    "for line in f:\n",
    "    tokens=line.strip().split()\n",
    "    total_score += check_result(tokens[0],tokens[1]) + shape_vals[tokens[1]]\n",
    "\n",
    "print(total_score)\n",
    "    "
   ]
  },
  {
   "cell_type": "code",
   "execution_count": 21,
   "id": "painful-chancellor",
   "metadata": {},
   "outputs": [],
   "source": [
    "f.close()\n"
   ]
  },
  {
   "cell_type": "markdown",
   "id": "residential-astronomy",
   "metadata": {},
   "source": [
    "---------"
   ]
  },
  {
   "cell_type": "code",
   "execution_count": 22,
   "id": "characteristic-meditation",
   "metadata": {},
   "outputs": [],
   "source": [
    "file=\"1_input.txt\"\n",
    "#file=\"1_test.txt\"\n",
    "f=open(file,'r')"
   ]
  },
  {
   "cell_type": "code",
   "execution_count": 23,
   "id": "binary-indie",
   "metadata": {},
   "outputs": [],
   "source": [
    "def choose_move(result,move1):\n",
    "    if result==\"X\":\n",
    "        loss_dict={\"A\":\"Z\",\"B\":\"X\",\"C\":\"Y\"}\n",
    "        return 0 + shape_vals[loss_dict[move1]]\n",
    "    if result==\"Y\":\n",
    "        draw_dict={\"A\":\"X\",\"B\":\"Y\",\"C\":\"Z\"}\n",
    "        return 3 + shape_vals[draw_dict[move1]]\n",
    "    if result==\"Z\":\n",
    "        win_dict={\"A\":\"Y\",\"B\":\"Z\",\"C\":\"X\"}\n",
    "        return 6 + shape_vals[win_dict[move1]]\n",
    "    return None\n",
    "\n",
    "\n",
    "        "
   ]
  },
  {
   "cell_type": "code",
   "execution_count": 24,
   "id": "outer-survival",
   "metadata": {},
   "outputs": [
    {
     "name": "stdout",
     "output_type": "stream",
     "text": [
      "14204\n"
     ]
    }
   ],
   "source": [
    "shape_vals={\"X\":1,\"Y\":2,\"Z\":3}\n",
    "\n",
    "total_score=0\n",
    "for line in f:\n",
    "    tokens=line.strip().split()\n",
    "    total_score += choose_move(tokens[1],tokens[0])\n",
    "\n",
    "print(total_score)\n",
    "    "
   ]
  },
  {
   "cell_type": "code",
   "execution_count": null,
   "id": "graphic-institution",
   "metadata": {},
   "outputs": [],
   "source": [
    "f.close()\n"
   ]
  }
 ],
 "metadata": {
  "kernelspec": {
   "display_name": "Python 3",
   "language": "python",
   "name": "python3"
  },
  "language_info": {
   "codemirror_mode": {
    "name": "ipython",
    "version": 3
   },
   "file_extension": ".py",
   "mimetype": "text/x-python",
   "name": "python",
   "nbconvert_exporter": "python",
   "pygments_lexer": "ipython3",
   "version": "3.9.1"
  }
 },
 "nbformat": 4,
 "nbformat_minor": 5
}

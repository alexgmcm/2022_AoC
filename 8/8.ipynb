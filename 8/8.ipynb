{
 "cells": [
  {
   "cell_type": "code",
   "execution_count": null,
   "id": "protected-implement",
   "metadata": {},
   "outputs": [],
   "source": [
    "# for each row/col go from left to right (top to bottom) and then also the reverse\n",
    "# if tree height is max tree height seen so far, then set is_visible=True property\n",
    "# at end loop over all and sum is_visible\n"
   ]
  },
  {
   "cell_type": "code",
   "execution_count": 86,
   "id": "certain-study",
   "metadata": {},
   "outputs": [],
   "source": [
    "class Tree:\n",
    "    def __init__(self,height):\n",
    "        self.height=height\n",
    "        self.is_visible = False\n",
    "        self.scenic_score=0\n",
    "    def check_height(self,max_height_seen):\n",
    "        if not self.is_visible:\n",
    "            self.is_visible = True if self.height>max_height_seen else False\n",
    "        \n",
    "def get_part1_result(forest):\n",
    "    visible_count = 0\n",
    "    for row in forest:\n",
    "        for tree in row:\n",
    "            if tree.is_visible:\n",
    "                visible_count += 1\n",
    "    return visible_count"
   ]
  },
  {
   "cell_type": "code",
   "execution_count": 87,
   "id": "later-opera",
   "metadata": {},
   "outputs": [],
   "source": [
    "file=\"1_input.txt\"\n",
    "#file=\"1_test.txt\"\n",
    "forest=[]\n",
    "\n",
    "f=open(file,'r')\n",
    "for line in f:\n",
    "    row = [Tree(height=int(x)) for x in list(line.strip())]\n",
    "    forest.append(row)"
   ]
  },
  {
   "cell_type": "code",
   "execution_count": 88,
   "id": "grand-resort",
   "metadata": {},
   "outputs": [],
   "source": [
    "# iterate over rows\n",
    "for y in range(len(forest)):\n",
    "    max_height_seen=-1\n",
    "    for x in range(len(forest[0])):\n",
    "        tree = forest[y][x]\n",
    "        tree.check_height(max_height_seen)\n",
    "        max_height_seen = tree.height if tree.height>max_height_seen else max_height_seen\n",
    "        \n",
    "    max_height_seen=-1\n",
    "    \n",
    "    for x in reversed(range(len(forest[0]))):\n",
    "        tree = forest[y][x]\n",
    "        tree.check_height(max_height_seen)\n",
    "        max_height_seen = tree.height if tree.height>max_height_seen else max_height_seen\n",
    "\n",
    "# iterate over cols\n",
    "for x in range(len(forest[0])):\n",
    "    max_height_seen=-1\n",
    "    for y in range(len(forest)):\n",
    "        tree = forest[y][x]\n",
    "        tree.check_height(max_height_seen)\n",
    "        max_height_seen = tree.height if tree.height>max_height_seen else max_height_seen\n",
    "    \n",
    "    max_height_seen=-1\n",
    "    \n",
    "    for y in reversed(range(len(forest))):\n",
    "        tree = forest[y][x]\n",
    "        tree.check_height(max_height_seen)\n",
    "        max_height_seen = tree.height if tree.height>max_height_seen else max_height_seen\n",
    "        "
   ]
  },
  {
   "cell_type": "code",
   "execution_count": 89,
   "id": "organic-jersey",
   "metadata": {},
   "outputs": [
    {
     "data": {
      "text/plain": [
       "1843"
      ]
     },
     "execution_count": 89,
     "metadata": {},
     "output_type": "execute_result"
    }
   ],
   "source": [
    "get_part1_result(forest)"
   ]
  },
  {
   "cell_type": "code",
   "execution_count": 92,
   "id": "metropolitan-passport",
   "metadata": {},
   "outputs": [],
   "source": [
    "# write look up, look left etc. functions that take tree and position of tree and calculate viewing distance in that direction\n",
    "# sum these for each tree to calculate scenic score\n",
    "# return max scenic score\n",
    "\n",
    "def look_left(y,x,forest):\n",
    "    tree=forest[y][x]\n",
    "    view_distance=0\n",
    "    for i in reversed(range(x)):\n",
    "        tree_compare=forest[y][i]\n",
    "        if tree.height>tree_compare.height:\n",
    "            view_distance+=1\n",
    "        else:\n",
    "            view_distance+=1\n",
    "            return view_distance\n",
    "    return view_distance\n",
    "        \n",
    "def look_right(y,x,forest):\n",
    "    ROW_LENGTH=len(forest[0])\n",
    "    tree=forest[y][x]\n",
    "    view_distance=0\n",
    "    if x == ROW_LENGTH-1:\n",
    "        return view_distance\n",
    "    for i in range(x+1,ROW_LENGTH):\n",
    "        tree_compare=forest[y][i]\n",
    "        if tree.height>tree_compare.height:\n",
    "            view_distance+=1\n",
    "        else:\n",
    "            view_distance+=1\n",
    "            return view_distance\n",
    "    return view_distance\n",
    "        \n",
    "def look_up(y,x,forest):\n",
    "    tree=forest[y][x]\n",
    "    view_distance=0\n",
    "    for j in reversed(range(y)):\n",
    "        tree_compare=forest[j][x]\n",
    "        if tree.height>tree_compare.height:\n",
    "            view_distance+=1\n",
    "        else:\n",
    "            view_distance+=1\n",
    "            return view_distance\n",
    "    return view_distance\n",
    "\n",
    "def look_down(y,x,forest):\n",
    "    COL_LENGTH=len(forest)\n",
    "    tree=forest[y][x]\n",
    "    view_distance=0\n",
    "    if y == COL_LENGTH-1:\n",
    "        return view_distance\n",
    "    for j in range(y+1,COL_LENGTH):\n",
    "        tree_compare=forest[j][x]\n",
    "        if tree.height>tree_compare.height:\n",
    "            view_distance+=1\n",
    "        else:\n",
    "            view_distance+=1\n",
    "            return view_distance\n",
    "    return view_distance\n",
    "\n",
    "def get_scenic_score(y,x,forest):\n",
    "    return look_right(y,x,forest) * look_left(y,x,forest) * look_up(y,x,forest) * look_down(y,x,forest)\n",
    "\n",
    "def get_part2_result(forest):\n",
    "    max_score=0\n",
    "    ROW_LENGTH=len(forest[0])\n",
    "    COL_LENGTH=len(forest)\n",
    "    for x in range(ROW_LENGTH):\n",
    "        for y in range(COL_LENGTH):\n",
    "            cur_score=get_scenic_score(y,x,forest)\n",
    "            max_score = cur_score if cur_score>max_score else max_score\n",
    "            tree=forest[y][x]\n",
    "            tree.scenic_score=cur_score\n",
    "    return max_score\n",
    "            \n"
   ]
  },
  {
   "cell_type": "code",
   "execution_count": 93,
   "id": "formed-oliver",
   "metadata": {},
   "outputs": [
    {
     "data": {
      "text/plain": [
       "180000"
      ]
     },
     "execution_count": 93,
     "metadata": {},
     "output_type": "execute_result"
    }
   ],
   "source": [
    "get_part2_result(forest)"
   ]
  }
 ],
 "metadata": {
  "kernelspec": {
   "display_name": "Python 3",
   "language": "python",
   "name": "python3"
  },
  "language_info": {
   "codemirror_mode": {
    "name": "ipython",
    "version": 3
   },
   "file_extension": ".py",
   "mimetype": "text/x-python",
   "name": "python",
   "nbconvert_exporter": "python",
   "pygments_lexer": "ipython3",
   "version": "3.9.1"
  }
 },
 "nbformat": 4,
 "nbformat_minor": 5
}

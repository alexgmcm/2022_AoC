{
 "cells": [
  {
   "cell_type": "code",
   "execution_count": 67,
   "id": "married-trouble",
   "metadata": {},
   "outputs": [],
   "source": [
    "# If both values are integers, the lower integer should come first.\n"
   ]
  },
  {
   "cell_type": "code",
   "execution_count": 115,
   "id": "accepted-sense",
   "metadata": {},
   "outputs": [],
   "source": [
    "def compare_items(left,right):\n",
    "    if isinstance(left, int) and isinstance(right, int):\n",
    "        #print(f\"Comparing ints {left} and {right}\")\n",
    "        if left<right:\n",
    "            #print(f\"Left smaller or same\")\n",
    "            return True\n",
    "        elif left>right:\n",
    "            #print(f\"Right smaller or same\")\n",
    "            return False\n",
    "        else: \n",
    "            #print(\"Equal ints\")\n",
    "            return None\n",
    "    if isinstance(left, list) and isinstance(right, list):\n",
    "        #print(f\"Comparing two lists {left} and {right}\")\n",
    "        i=0\n",
    "        while True:\n",
    "            if i<len(right) and  i==len(left):\n",
    "                #print(f\"Left {left} shorter than right {right}\")\n",
    "                return True\n",
    "            if i<len(left) and i==len(right):\n",
    "                #print(f\"Right {right} shorter than left {left}\")\n",
    "                return False\n",
    "            if i==len(right) and i==len(left):\n",
    "                #print(f\"Same Length\")\n",
    "                return None\n",
    "            comparison = compare_items(left[i],right[i])\n",
    "            if comparison == False:\n",
    "                #print(f\"item {left[i]} was larger than {right[i]}\")\n",
    "                return False\n",
    "            if comparison == True:\n",
    "                #print(f\"item {left[i]} was smaller than {right[i]}\")\n",
    "                return True\n",
    "            i+=1\n",
    "    if isinstance(left, list) and isinstance(right, int):\n",
    "        #print(f\"Comparing {left} and {right}, converting {right} to list\")\n",
    "        right=[right]\n",
    "        return compare_items(left,right)\n",
    "    if isinstance(left, int) and isinstance(right, list):\n",
    "        #print(f\"Comparing {left} and {right}, converting {left} to list\")\n",
    "        left=[left]\n",
    "        return compare_items(left,right)\n",
    "        \n",
    "            \n",
    "    \n",
    "    \n",
    "\n",
    "def parse_pair(pair):\n",
    "    first = parse_line(pair[0])\n",
    "    second = parse_line(pair[1])\n",
    "    return compare_items(first,second)\n",
    "    \n",
    "        \n",
    "    \n",
    "    \n",
    "\n",
    "    \n",
    "def parse_line(line):\n",
    "    i=0\n",
    "    line_items=[]\n",
    "    #line=line.strip(\"[]\") # get rid of outer initial list\n",
    "    list_stack=[] # start with pointing to outer list\n",
    "    cur_num=\"\"\n",
    "    while i<len(line):\n",
    "        \n",
    "        cur_char=line[i]\n",
    "        if cur_char == \"[\":\n",
    "            new_list=[]\n",
    "            if len(list_stack)==0:\n",
    "                list_stack.append(new_list) # for first list\n",
    "            else:\n",
    "                list_stack[-1].append(new_list) #add new list inside current list\n",
    "                list_stack.append(new_list) # point to new list\n",
    "            \n",
    "        if cur_char.isnumeric():\n",
    "            cur_num += cur_char\n",
    "        if cur_char==\",\":\n",
    "            if cur_num!=\"\":\n",
    "                list_stack[-1].append(int(cur_num))\n",
    "            cur_num=\"\"\n",
    "        if cur_char==\"]\":\n",
    "            if cur_num!=\"\":\n",
    "                list_stack[-1].append(int(cur_num))\n",
    "                cur_num=\"\"\n",
    "            proc_line =list_stack.pop() # pop list from stack\n",
    "        i+=1\n",
    "    return proc_line\n",
    "            \n",
    "        \n",
    "            \n",
    "            \n"
   ]
  },
  {
   "cell_type": "code",
   "execution_count": 118,
   "id": "mobile-footwear",
   "metadata": {},
   "outputs": [
    {
     "name": "stdout",
     "output_type": "stream",
     "text": [
      "6076\n"
     ]
    }
   ],
   "source": [
    "file=\"1_test.txt\"\n",
    "file=\"1_input.txt\"\n",
    "f=open(file,'r')\n",
    "index=1\n",
    "right_indices=[]\n",
    "while True:\n",
    "    raw_line_1=f.readline()\n",
    "    raw_line_2=f.readline()\n",
    "    raw_line_3=f.readline()\n",
    "    if any(map(lambda x: x==\"\",[raw_line_1,raw_line_2])):\n",
    "        break #EOF\n",
    "    else:\n",
    "        #print(index)\n",
    "        pair = (raw_line_1.strip(),raw_line_2.strip())\n",
    "        result = parse_pair(pair)\n",
    "        if result:\n",
    "            #print(\"Right Order\")\n",
    "            right_indices.append(index)\n",
    "        else:\n",
    "            #print(\"Wrong Order\")\n",
    "            pass\n",
    "        #print(\"------------\")\n",
    "    index+=1\n",
    "    \n",
    "print(sum(right_indices))"
   ]
  },
  {
   "cell_type": "markdown",
   "id": "fifty-mining",
   "metadata": {},
   "source": [
    "--------\n",
    "### Part 2"
   ]
  },
  {
   "cell_type": "code",
   "execution_count": 111,
   "id": "norwegian-arctic",
   "metadata": {},
   "outputs": [],
   "source": [
    "import functools\n",
    "\n",
    "def compare_items(left,right):\n",
    "    if isinstance(left, int) and isinstance(right, int):\n",
    "        #print(f\"Comparing ints {left} and {right}\")\n",
    "        if left<right:\n",
    "            #print(f\"Left smaller or same\")\n",
    "            return -1\n",
    "        elif left>right:\n",
    "            #print(f\"Right smaller or same\")\n",
    "            return 1\n",
    "        else: \n",
    "            #print(\"Equal ints\")\n",
    "            return 0\n",
    "    if isinstance(left, list) and isinstance(right, list):\n",
    "        #print(f\"Comparing two lists {left} and {right}\")\n",
    "        i=0\n",
    "        while True:\n",
    "            if i<len(right) and  i==len(left):\n",
    "                #print(f\"Left {left} shorter than right {right}\")\n",
    "                return -1\n",
    "            if i<len(left) and i==len(right):\n",
    "                #print(f\"Right {right} shorter than left {left}\")\n",
    "                return 1\n",
    "            if i==len(right) and i==len(left):\n",
    "                #print(f\"Same Length\")\n",
    "                return 0\n",
    "            comparison = compare_items(left[i],right[i])\n",
    "            if comparison == -1:\n",
    "                #print(f\"item {left[i]} was larger than {right[i]}\")\n",
    "                return -1\n",
    "            if comparison == 1:\n",
    "                #print(f\"item {left[i]} was smaller than {right[i]}\")\n",
    "                return 1\n",
    "            i+=1\n",
    "    if isinstance(left, list) and isinstance(right, int):\n",
    "        #print(f\"Comparing {left} and {right}, converting {right} to list\")\n",
    "        right=[right]\n",
    "        return compare_items(left,right)\n",
    "    if isinstance(left, int) and isinstance(right, list):\n",
    "        #print(f\"Comparing {left} and {right}, converting {left} to list\")\n",
    "        left=[left]\n",
    "        return compare_items(left,right)"
   ]
  },
  {
   "cell_type": "code",
   "execution_count": 113,
   "id": "comparable-amazon",
   "metadata": {},
   "outputs": [],
   "source": [
    "\n",
    "file=\"1_test.txt\"\n",
    "file=\"1_input.txt\"\n",
    "f=open(file,'r')\n",
    "lines=f.readlines()\n",
    "lines=list(filter(lambda x: x !=\"\", [line.strip() for line in lines]))\n",
    "lines = list(map(lambda x: parse_line(x),lines))\n",
    "dividers=[[[2]],[[6]]]\n",
    "lines.extend(dividers)\n",
    "#print(lines)\n",
    "\n",
    "sorted_lines = sorted(lines, key=functools.cmp_to_key(compare_items))\n",
    "for line in sorted_lines:\n",
    "    #print(line)\n",
    "    pass"
   ]
  },
  {
   "cell_type": "code",
   "execution_count": 114,
   "id": "approved-brunei",
   "metadata": {},
   "outputs": [
    {
     "name": "stdout",
     "output_type": "stream",
     "text": [
      "24805\n"
     ]
    }
   ],
   "source": [
    "print((sorted_lines.index([[2]])+1) * (sorted_lines.index([[6]])+1))"
   ]
  },
  {
   "cell_type": "code",
   "execution_count": null,
   "id": "aquatic-rebound",
   "metadata": {},
   "outputs": [],
   "source": []
  },
  {
   "cell_type": "markdown",
   "id": "domestic-packaging",
   "metadata": {},
   "source": [
    "-----------\n",
    "### Appendix"
   ]
  },
  {
   "cell_type": "code",
   "execution_count": 35,
   "id": "resistant-nigeria",
   "metadata": {},
   "outputs": [
    {
     "name": "stdout",
     "output_type": "stream",
     "text": [
      "[1,1,3,1,1]\n",
      "[1, 1, 3, 1, 1]\n",
      "---------------\n",
      "[1,1,5,1,1]\n",
      "[1, 1, 5, 1, 1]\n",
      "---------------\n",
      "[[1],[2,3,4]]\n",
      "[[1], [2, 3, 4]]\n",
      "---------------\n",
      "[[1],4]\n",
      "[[1], 4]\n",
      "---------------\n",
      "[9]\n",
      "[9]\n",
      "---------------\n",
      "[[8,7,6]]\n",
      "[[8, 7, 6]]\n",
      "---------------\n",
      "[[4,4],4,4]\n",
      "[[4, 4], 4, 4]\n",
      "---------------\n",
      "[[4,4],4,4,4]\n",
      "[[4, 4], 4, 4, 4]\n",
      "---------------\n",
      "[7,7,7,7]\n",
      "[7, 7, 7, 7]\n",
      "---------------\n",
      "[7,7,7]\n",
      "[7, 7, 7]\n",
      "---------------\n",
      "[]\n",
      "[]\n",
      "---------------\n",
      "[3]\n",
      "[3]\n",
      "---------------\n",
      "[[[]]]\n",
      "[[[]]]\n",
      "---------------\n",
      "[[]]\n",
      "[[]]\n",
      "---------------\n",
      "[1,[2,[3,[4,[5,6,7]]]],8,9]\n",
      "[1, [2, [3, [4, [5, 6, 7]]]], 8, 9]\n",
      "---------------\n",
      "[1,[2,[3,[4,[5,6,0]]]],8,9]\n",
      "[1, [2, [3, [4, [5, 6, 0]]]], 8, 9]\n",
      "---------------\n"
     ]
    }
   ],
   "source": [
    "file=\"1_test.txt\"\n",
    "f=open(file,'r')\n",
    "for line in f:\n",
    "    line=line.strip()\n",
    "    if line != \"\":\n",
    "        print(line)\n",
    "        print(parse_line(line))\n",
    "        print(\"---------------\")\n",
    "        test=parse_line(line)\n"
   ]
  },
  {
   "cell_type": "code",
   "execution_count": 40,
   "id": "different-disclosure",
   "metadata": {},
   "outputs": [
    {
     "data": {
      "text/plain": [
       "True"
      ]
     },
     "execution_count": 40,
     "metadata": {},
     "output_type": "execute_result"
    }
   ],
   "source": [
    "isinstance([5,3,2],list)"
   ]
  },
  {
   "cell_type": "code",
   "execution_count": null,
   "id": "seeing-luxembourg",
   "metadata": {},
   "outputs": [],
   "source": []
  }
 ],
 "metadata": {
  "kernelspec": {
   "display_name": "Python 3",
   "language": "python",
   "name": "python3"
  },
  "language_info": {
   "codemirror_mode": {
    "name": "ipython",
    "version": 3
   },
   "file_extension": ".py",
   "mimetype": "text/x-python",
   "name": "python",
   "nbconvert_exporter": "python",
   "pygments_lexer": "ipython3",
   "version": "3.9.1"
  }
 },
 "nbformat": 4,
 "nbformat_minor": 5
}
